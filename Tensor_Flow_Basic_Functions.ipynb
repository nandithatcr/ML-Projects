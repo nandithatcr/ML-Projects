{
  "nbformat": 4,
  "nbformat_minor": 0,
  "metadata": {
    "colab": {
      "provenance": []
    },
    "kernelspec": {
      "name": "python3",
      "display_name": "Python 3"
    },
    "language_info": {
      "name": "python"
    }
  },
  "cells": [
    {
      "cell_type": "markdown",
      "source": [
        "#**Scalar 0D Tensor**"
      ],
      "metadata": {
        "id": "vqDmBqXtwaD0"
      }
    },
    {
      "cell_type": "code",
      "execution_count": null,
      "metadata": {
        "colab": {
          "base_uri": "https://localhost:8080/"
        },
        "id": "_tYJLMnsv0iB",
        "outputId": "a084ffb8-8a49-4706-c962-e34ccd0e150e"
      },
      "outputs": [
        {
          "output_type": "stream",
          "name": "stdout",
          "text": [
            "tf.Tensor(5, shape=(), dtype=int32)\n"
          ]
        }
      ],
      "source": [
        "import tensorflow as tf\n",
        "scalar = tf.constant(5)\n",
        "print(scalar)"
      ]
    },
    {
      "cell_type": "markdown",
      "source": [
        "#**Vector 1D Tensor**\n",
        "\n",
        "A vector is a one dimensional tensor like an array. Example[1,2,3]"
      ],
      "metadata": {
        "id": "S46_q4S2wg6T"
      }
    },
    {
      "cell_type": "code",
      "source": [
        "import tensorflow as tf\n",
        "vector = tf.constant([5,10,15,20])\n",
        "print(vector)"
      ],
      "metadata": {
        "colab": {
          "base_uri": "https://localhost:8080/"
        },
        "id": "CTw1hwRjwK2-",
        "outputId": "98a76295-91eb-4b23-d20b-87f724bb9642"
      },
      "execution_count": null,
      "outputs": [
        {
          "output_type": "stream",
          "name": "stdout",
          "text": [
            "tf.Tensor([ 5 10 15 20], shape=(4,), dtype=int32)\n"
          ]
        }
      ]
    },
    {
      "cell_type": "markdown",
      "source": [
        "#**Matrix 2D Tensor**\n",
        "\n",
        "A matrix is a 2 dimensional tensor(rows and columns)\n"
      ],
      "metadata": {
        "id": "I6-GUjYrxLSb"
      }
    },
    {
      "cell_type": "code",
      "source": [
        "import tensorflow as tf\n",
        "matrix = tf.constant([[1,2,3],[4,5,6]])\n",
        "print(matrix)"
      ],
      "metadata": {
        "colab": {
          "base_uri": "https://localhost:8080/"
        },
        "id": "8KzopJQkw3yK",
        "outputId": "c33f6bc3-f6f7-4825-d9de-1c774d12c548"
      },
      "execution_count": null,
      "outputs": [
        {
          "output_type": "stream",
          "name": "stdout",
          "text": [
            "tf.Tensor(\n",
            "[[1 2 3]\n",
            " [4 5 6]], shape=(2, 3), dtype=int32)\n"
          ]
        }
      ]
    },
    {
      "cell_type": "markdown",
      "source": [
        "#**3D Tensor**\n",
        "\n",
        "A 3D tensor is like a collection if matrices stacked together"
      ],
      "metadata": {
        "id": "AZuPFWUkxjiG"
      }
    },
    {
      "cell_type": "code",
      "source": [
        "tensor_3d = tf.constant([[[1,2],[3,4]],[[5,6],[7,8]]])\n",
        "print(tensor_3d)"
      ],
      "metadata": {
        "colab": {
          "base_uri": "https://localhost:8080/"
        },
        "id": "mXrTFmdbxgZs",
        "outputId": "67d6698d-76c4-4218-ace2-8f623dd982e9"
      },
      "execution_count": null,
      "outputs": [
        {
          "output_type": "stream",
          "name": "stdout",
          "text": [
            "tf.Tensor(\n",
            "[[[1 2]\n",
            "  [3 4]]\n",
            "\n",
            " [[5 6]\n",
            "  [7 8]]], shape=(2, 2, 2), dtype=int32)\n"
          ]
        }
      ]
    },
    {
      "cell_type": "markdown",
      "source": [
        "#**Higher Dimensional Tensors**\n",
        "\n",
        "Used in deep learning for images vidoes and complex models.\n",
        "Example of a 4D tensor:\n",
        "Used for image processing with shape(batch_size,height,width,channels)"
      ],
      "metadata": {
        "id": "U5xLkJjHyFVk"
      }
    },
    {
      "cell_type": "code",
      "source": [
        "tensor_4d  =tf.constant([[[[1],[2],[3],[4]]],[[[5],[6],[7],[8]]]])\n",
        "print(tensor_4d)"
      ],
      "metadata": {
        "colab": {
          "base_uri": "https://localhost:8080/"
        },
        "id": "Ia0QsJoCx_cB",
        "outputId": "9b8c65cf-e366-4d70-85f3-3df7b8632e19"
      },
      "execution_count": null,
      "outputs": [
        {
          "output_type": "stream",
          "name": "stdout",
          "text": [
            "tf.Tensor(\n",
            "[[[[1]\n",
            "   [2]\n",
            "   [3]\n",
            "   [4]]]\n",
            "\n",
            "\n",
            " [[[5]\n",
            "   [6]\n",
            "   [7]\n",
            "   [8]]]], shape=(2, 1, 4, 1), dtype=int32)\n"
          ]
        }
      ]
    },
    {
      "cell_type": "markdown",
      "source": [
        "#**Tensor Functions**"
      ],
      "metadata": {
        "id": "R-re5Kxd1t7M"
      }
    },
    {
      "cell_type": "markdown",
      "source": [
        "#tf.constant()\n",
        "Create a constant tensor"
      ],
      "metadata": {
        "id": "9Op_z5dB2Y5_"
      }
    },
    {
      "cell_type": "code",
      "source": [
        "import tensorflow as tf\n",
        "tensor = tf.constant([[1,2],[3,4]])\n",
        "print(tensor)"
      ],
      "metadata": {
        "colab": {
          "base_uri": "https://localhost:8080/"
        },
        "id": "apUyFKOL2QtB",
        "outputId": "90ff93a4-0c8a-416f-b177-44b3750ef92f"
      },
      "execution_count": null,
      "outputs": [
        {
          "output_type": "stream",
          "name": "stdout",
          "text": [
            "tf.Tensor(\n",
            "[[1 2]\n",
            " [3 4]], shape=(2, 2), dtype=int32)\n"
          ]
        }
      ]
    },
    {
      "cell_type": "markdown",
      "source": [
        "#tf.zeros()\n",
        "\n",
        "Create a tensor filled with zeros"
      ],
      "metadata": {
        "id": "zfwBn_jt1_db"
      }
    },
    {
      "cell_type": "code",
      "source": [
        "import tensorflow as tf\n",
        "zero_tensor = tf.zeros([2,3])\n",
        "print(zero_tensor)"
      ],
      "metadata": {
        "colab": {
          "base_uri": "https://localhost:8080/"
        },
        "id": "hcbcQbK0yyjk",
        "outputId": "9c9f75f2-418c-48f1-f17c-ad3036e4cbab"
      },
      "execution_count": null,
      "outputs": [
        {
          "output_type": "stream",
          "name": "stdout",
          "text": [
            "tf.Tensor(\n",
            "[[0. 0. 0.]\n",
            " [0. 0. 0.]], shape=(2, 3), dtype=float32)\n"
          ]
        }
      ]
    },
    {
      "cell_type": "markdown",
      "source": [
        "#tf.ones()\n",
        "Create a tensor filled with ones"
      ],
      "metadata": {
        "id": "qOWKJx_A2pi3"
      }
    },
    {
      "cell_type": "code",
      "source": [
        "import tensorflow as tf\n",
        "one_tensor = tf.ones([2,3])\n",
        "print(one_tensor)\n"
      ],
      "metadata": {
        "colab": {
          "base_uri": "https://localhost:8080/"
        },
        "id": "LlOWZXge173D",
        "outputId": "b1c5ef35-89ea-42c8-eefc-8520900c2edd"
      },
      "execution_count": null,
      "outputs": [
        {
          "output_type": "stream",
          "name": "stdout",
          "text": [
            "tf.Tensor(\n",
            "[[1. 1. 1.]\n",
            " [1. 1. 1.]], shape=(2, 3), dtype=float32)\n"
          ]
        }
      ]
    },
    {
      "cell_type": "markdown",
      "source": [
        "#tf.random.uniform()\n",
        "Create a tensor with random values"
      ],
      "metadata": {
        "id": "NcPLQ5bR28nK"
      }
    },
    {
      "cell_type": "code",
      "source": [
        "import tensorflow as tf\n",
        "random_tensor = tf.random.uniform([2,2],minval=0,maxval=10,dtype=tf.int32)\n",
        "print(random_tensor)"
      ],
      "metadata": {
        "colab": {
          "base_uri": "https://localhost:8080/"
        },
        "id": "jdhPvoqt25dc",
        "outputId": "7184f9b5-f1c2-4e99-c942-62ae7f83c905"
      },
      "execution_count": null,
      "outputs": [
        {
          "output_type": "stream",
          "name": "stdout",
          "text": [
            "tf.Tensor(\n",
            "[[4 3]\n",
            " [0 6]], shape=(2, 2), dtype=int32)\n"
          ]
        }
      ]
    },
    {
      "cell_type": "markdown",
      "source": [
        "#tf.shape()\n",
        "\n",
        "Returns the shape of a tensor"
      ],
      "metadata": {
        "id": "RyD1Rizx133w"
      }
    },
    {
      "cell_type": "code",
      "source": [
        "import tensorflow as tf\n",
        "tensor = tf.constant([[1,2],[3,4]])\n",
        "print(tf.shape( tensor))\n"
      ],
      "metadata": {
        "id": "ONZYFKsa3g07",
        "colab": {
          "base_uri": "https://localhost:8080/"
        },
        "outputId": "2a82914f-8700-4939-fb82-6d0114b34aac"
      },
      "execution_count": null,
      "outputs": [
        {
          "output_type": "stream",
          "name": "stdout",
          "text": [
            "tf.Tensor([2 2], shape=(2,), dtype=int32)\n"
          ]
        }
      ]
    },
    {
      "cell_type": "markdown",
      "source": [
        "#Mathematical Operation\n",
        "\n",
        "1.  tf.add() - Element-wise addition\n",
        "2.  tf.subtract() - Element-wise subtraction\n",
        "3. tf.multiply() - Element-wise multiplication\n",
        "4. tf.divide() - Element-wise division\n",
        "5. tf.matmul() - Matrix multiplication\n",
        "\n",
        "\n",
        "\n",
        "\n",
        "\n",
        "\n",
        "\n",
        "\n",
        "\n",
        "\n"
      ],
      "metadata": {
        "id": "wWDRffjg2FNa"
      }
    },
    {
      "cell_type": "code",
      "source": [
        "import tensorflow as tensor\n",
        "a = tf.constant([1, 2, 3])\n",
        "b = tf.constant([4, 5, 6])\n",
        "add = tf.add(a, b)\n",
        "sub = tf.subtract(a, b)\n",
        "mul = tf.multiply(a, b)\n",
        "div = tf.divide(a, b)\n",
        "\n",
        "print('Add',add)\n",
        "print('Sub',sub)\n",
        "print('Mul',mul)\n",
        "print('Div',div)\n"
      ],
      "metadata": {
        "colab": {
          "base_uri": "https://localhost:8080/"
        },
        "id": "5ockiYWJ1_5K",
        "outputId": "b9dd9fc1-9966-441e-a2ca-75bb0844f643"
      },
      "execution_count": null,
      "outputs": [
        {
          "output_type": "stream",
          "name": "stdout",
          "text": [
            "Add tf.Tensor([5 7 9], shape=(3,), dtype=int32)\n",
            "Sub tf.Tensor([-3 -3 -3], shape=(3,), dtype=int32)\n",
            "Mul tf.Tensor([ 4 10 18], shape=(3,), dtype=int32)\n",
            "Div tf.Tensor([0.25 0.4  0.5 ], shape=(3,), dtype=float64)\n"
          ]
        }
      ]
    },
    {
      "cell_type": "code",
      "source": [
        "matrix1 = tf.constant([[1, 2], [3, 4]])\n",
        "matrix2 = tf.constant([[5, 6], [7, 8]])\n",
        "result = tf.matmul(matrix1, matrix2)\n",
        "print(result)"
      ],
      "metadata": {
        "colab": {
          "base_uri": "https://localhost:8080/"
        },
        "id": "ylvVwr_U2Lc-",
        "outputId": "a2cb920a-30b4-4431-8fbd-dd8d36adc1eb"
      },
      "execution_count": null,
      "outputs": [
        {
          "output_type": "stream",
          "name": "stdout",
          "text": [
            "tf.Tensor(\n",
            "[[19 22]\n",
            " [43 50]], shape=(2, 2), dtype=int32)\n"
          ]
        }
      ]
    },
    {
      "cell_type": "markdown",
      "source": [
        "### **Reshaping & Manipulating Tensors**\n",
        "1.   tf.reshape() - Changes tensor shap\n",
        "2.   tf.transpose() - Transposes a matrix\n",
        "3.  tf.squeeze() - Removes dimensions of size 1\n",
        "4.  tf.expand_dims() - Adds a new dimension\n",
        "\n"
      ],
      "metadata": {
        "id": "8gZ4NzG020Au"
      }
    },
    {
      "cell_type": "code",
      "source": [
        "import tensorflow as tf\n",
        "tensor = tf.constant([1, 2, 3, 4, 5, 6])\n",
        "reshaped_tensor = tf.reshape(tensor, [2, 3])\n",
        "print(reshaped_tensor)"
      ],
      "metadata": {
        "colab": {
          "base_uri": "https://localhost:8080/"
        },
        "id": "uvTXEVrd2w9-",
        "outputId": "16dd62e5-01a9-4e98-c23a-6d63e38cf725"
      },
      "execution_count": null,
      "outputs": [
        {
          "output_type": "stream",
          "name": "stdout",
          "text": [
            "tf.Tensor(\n",
            "[[1 2 3]\n",
            " [4 5 6]], shape=(2, 3), dtype=int32)\n"
          ]
        }
      ]
    },
    {
      "cell_type": "code",
      "source": [
        "import tensorflow as tf\n",
        "matrix = tf.constant([[1, 2, 3], [4, 5, 6]])\n",
        "transposed = tf.transpose(matrix)\n",
        "print(transposed)"
      ],
      "metadata": {
        "colab": {
          "base_uri": "https://localhost:8080/"
        },
        "id": "DGTpFZ34230l",
        "outputId": "6f975cac-ca40-405f-ef58-1eff28fe1212"
      },
      "execution_count": null,
      "outputs": [
        {
          "output_type": "stream",
          "name": "stdout",
          "text": [
            "tf.Tensor(\n",
            "[[1 4]\n",
            " [2 5]\n",
            " [3 6]], shape=(3, 2), dtype=int32)\n"
          ]
        }
      ]
    },
    {
      "cell_type": "code",
      "source": [
        "import tensorflow as tf\n",
        "tensor = tf.constant([[[1], [2], [3]]])\n",
        "squeezed = tf.squeeze(tensor)\n",
        "print(squeezed)"
      ],
      "metadata": {
        "colab": {
          "base_uri": "https://localhost:8080/"
        },
        "id": "QbY5eZ0925ZK",
        "outputId": "c2621b80-d540-4b65-ddbe-850c760fe458"
      },
      "execution_count": null,
      "outputs": [
        {
          "output_type": "stream",
          "name": "stdout",
          "text": [
            "tf.Tensor([1 2 3], shape=(3,), dtype=int32)\n"
          ]
        }
      ]
    },
    {
      "cell_type": "code",
      "source": [
        "import tensorflow as tf\n",
        "tensor = tf.constant([1, 2, 3])\n",
        "expanded = tf.expand_dims(tensor, axis=1)\n",
        "print(expanded)\n"
      ],
      "metadata": {
        "colab": {
          "base_uri": "https://localhost:8080/"
        },
        "id": "TCmPkncl27LP",
        "outputId": "1a6b3ae4-08da-49a0-f4c3-5aabfa5c7c3c"
      },
      "execution_count": null,
      "outputs": [
        {
          "output_type": "stream",
          "name": "stdout",
          "text": [
            "tf.Tensor(\n",
            "[[1]\n",
            " [2]\n",
            " [3]], shape=(3, 1), dtype=int32)\n"
          ]
        }
      ]
    },
    {
      "cell_type": "markdown",
      "source": [
        "### **Aggregation Functions (Summarizing Data)**\n",
        "\n",
        "1. tf.reduce_sum() - Computes sum of all elements\n",
        "2. tf.reduce_mean() - Computes mean (average)\n",
        "3. tf.reduce_max() & tf.reduce_min() - Finds max/min\n",
        "\n",
        "\n"
      ],
      "metadata": {
        "id": "Z5cIJDQi2-dp"
      }
    },
    {
      "cell_type": "code",
      "source": [
        "import tensorflow as tf\n",
        "tensor = tf.constant([[1, 2,],[3, 4]])\n",
        "sum = tf.reduce_sum(tensor)\n",
        "print(sum)"
      ],
      "metadata": {
        "colab": {
          "base_uri": "https://localhost:8080/"
        },
        "id": "sgfV9-hc28d7",
        "outputId": "63b89a54-f860-4c27-d1b8-cf4434342f63"
      },
      "execution_count": null,
      "outputs": [
        {
          "output_type": "stream",
          "name": "stdout",
          "text": [
            "tf.Tensor(10, shape=(), dtype=int32)\n"
          ]
        }
      ]
    },
    {
      "cell_type": "code",
      "source": [
        "mean_result = tf.reduce_mean(tensor)\n",
        "print(mean_result)"
      ],
      "metadata": {
        "colab": {
          "base_uri": "https://localhost:8080/"
        },
        "id": "CfgVTl673Czs",
        "outputId": "88ef9aea-e8f4-4685-d07b-c25e9281fb61"
      },
      "execution_count": null,
      "outputs": [
        {
          "output_type": "stream",
          "name": "stdout",
          "text": [
            "tf.Tensor(2, shape=(), dtype=int32)\n"
          ]
        }
      ]
    },
    {
      "cell_type": "code",
      "source": [
        "mean_result = tf.reduce_min(tensor)\n",
        "print(mean_result)"
      ],
      "metadata": {
        "colab": {
          "base_uri": "https://localhost:8080/"
        },
        "id": "0dg5zGMf3Ei1",
        "outputId": "36073756-b3d4-49ef-b90f-e5c649b75751"
      },
      "execution_count": null,
      "outputs": [
        {
          "output_type": "stream",
          "name": "stdout",
          "text": [
            "tf.Tensor(1, shape=(), dtype=int32)\n"
          ]
        }
      ]
    },
    {
      "cell_type": "markdown",
      "source": [
        "### **Indexing & Slicing Tensors**"
      ],
      "metadata": {
        "id": "hag0ZEE03KSu"
      }
    },
    {
      "cell_type": "code",
      "source": [
        "import tensorflow as tf\n",
        "tensor = tf.constant([1, 2, 3, 4, 5])\n",
        "print(tensor[0])\n",
        "print(tensor[-1])"
      ],
      "metadata": {
        "colab": {
          "base_uri": "https://localhost:8080/"
        },
        "id": "NoG21F103HjP",
        "outputId": "841b772d-c9b0-4a6c-fb66-332c52659ea1"
      },
      "execution_count": null,
      "outputs": [
        {
          "output_type": "stream",
          "name": "stdout",
          "text": [
            "tf.Tensor(1, shape=(), dtype=int32)\n",
            "tf.Tensor(5, shape=(), dtype=int32)\n"
          ]
        }
      ]
    },
    {
      "cell_type": "code",
      "source": [
        "import tensorflow as tf\n",
        "tensor = tf.constant([10, 20, 30, 40, 50])\n",
        "print(tensor[1:4])"
      ],
      "metadata": {
        "colab": {
          "base_uri": "https://localhost:8080/"
        },
        "id": "Nu2ekeef3Lz3",
        "outputId": "c2f94b68-39f6-4ccb-b725-44ef0adb5ffe"
      },
      "execution_count": null,
      "outputs": [
        {
          "output_type": "stream",
          "name": "stdout",
          "text": [
            "tf.Tensor([20 30 40], shape=(3,), dtype=int32)\n"
          ]
        }
      ]
    },
    {
      "cell_type": "markdown",
      "source": [
        "### **Broadcasting in Tensors**"
      ],
      "metadata": {
        "id": "i_UCre-T3T2D"
      }
    },
    {
      "cell_type": "code",
      "source": [
        "import tensorflow as tf\n",
        "tensor1 = tf.constant([[1, 2, 3]])\n",
        "tensor2 = tf.constant([[1], [2], [3]])\n",
        "\n",
        "result = tensor1 + tensor2\n",
        "print(result)\n"
      ],
      "metadata": {
        "colab": {
          "base_uri": "https://localhost:8080/"
        },
        "id": "T-k7MHL93NV_",
        "outputId": "58e8e05b-a793-429d-e49c-8a65a748fc21"
      },
      "execution_count": null,
      "outputs": [
        {
          "output_type": "stream",
          "name": "stdout",
          "text": [
            "tf.Tensor(\n",
            "[[2 3 4]\n",
            " [3 4 5]\n",
            " [4 5 6]], shape=(3, 3), dtype=int32)\n"
          ]
        }
      ]
    },
    {
      "cell_type": "code",
      "source": [],
      "metadata": {
        "id": "_uO4qF6Z3QxR"
      },
      "execution_count": null,
      "outputs": []
    }
  ]
}